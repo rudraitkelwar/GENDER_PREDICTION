{
 "cells": [
  {
   "cell_type": "code",
   "execution_count": 1,
   "metadata": {},
   "outputs": [
    {
     "name": "stdout",
     "output_type": "stream",
     "text": [
      "men\n"
     ]
    }
   ],
   "source": [
    "import numpy as np\n",
    "from tensorflow.keras.preprocessing import image\n",
    "img=image.load_img(r'C:\\Users\\RUDRA\\Desktop\\face datasets\\160647_367971_bundle_archive\\blues_eyes_man.jpg',target_size=(224,224))\n",
    "img=np.asarray(img)\n",
    "img=np.expand_dims(img,axis=0)\n",
    "\n",
    "\n",
    "img1=image.load_img(r'C:\\Users\\RUDRA\\Desktop\\face datasets\\160647_367971_bundle_archive\\women.jpg',target_size=(224,224))\n",
    "img1=np.asarray(img1)\n",
    "img1=np.expand_dims(img1,axis=0)\n",
    "\n",
    "img2=image.load_img(r'C:\\Users\\RUDRA\\Desktop\\face datasets\\160647_367971_bundle_archive\\woman1.jpg',target_size=(224,224))\n",
    "img2=np.asarray(img2)\n",
    "img2=np.expand_dims(img2,axis=0)\n",
    "\n",
    "img3=image.load_img(r'C:\\Users\\RUDRA\\Desktop\\face datasets\\160647_367971_bundle_archive\\man2.jpg',target_size=(224,224))\n",
    "img3=np.asarray(img3)\n",
    "img3=np.expand_dims(img3,axis=0)\n",
    "\n",
    "\n",
    "\n",
    "from tensorflow.keras.models import load_model\n",
    "saved_model=load_model('vggclf.h5')\n",
    "output=saved_model.predict(img3)\n",
    "\n",
    "\n",
    "\n",
    "if output[0][0]>output[0][1]:\n",
    "    print('men')\n",
    "else:\n",
    "    print('women')"
   ]
  },
  {
   "cell_type": "code",
   "execution_count": null,
   "metadata": {},
   "outputs": [],
   "source": []
  }
 ],
 "metadata": {
  "kernelspec": {
   "display_name": "Python [conda env:py3-TF2.0]",
   "language": "python",
   "name": "conda-env-py3-TF2.0-py"
  },
  "language_info": {
   "codemirror_mode": {
    "name": "ipython",
    "version": 3
   },
   "file_extension": ".py",
   "mimetype": "text/x-python",
   "name": "python",
   "nbconvert_exporter": "python",
   "pygments_lexer": "ipython3",
   "version": "3.7.7"
  }
 },
 "nbformat": 4,
 "nbformat_minor": 4
}
