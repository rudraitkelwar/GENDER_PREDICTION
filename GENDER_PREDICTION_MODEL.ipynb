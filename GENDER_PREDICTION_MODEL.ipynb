{
 "cells": [
  {
   "cell_type": "code",
   "execution_count": 1,
   "metadata": {},
   "outputs": [],
   "source": [
    "import tensorflow as tf\n",
    "import numpy as np\n",
    "from tensorflow.keras.preprocessing.image import ImageDataGenerator\n"
   ]
  },
  {
   "cell_type": "raw",
   "metadata": {},
   "source": []
  },
  {
   "cell_type": "code",
   "execution_count": 2,
   "metadata": {},
   "outputs": [
    {
     "name": "stdout",
     "output_type": "stream",
     "text": [
      "Found 3309 images belonging to 2 classes.\n",
      "Found 635 images belonging to 2 classes.\n"
     ]
    }
   ],
   "source": [
    "trdata=ImageDataGenerator()\n",
    "train_data=trdata.flow_from_directory(directory=r'C:\\Users\\RUDRA\\Desktop\\face datasets\\160647_367971_bundle_archive\\data',target_size=(224,224))\n",
    "tsdata=ImageDataGenerator()\n",
    "test_data=tsdata.flow_from_directory(directory=r'C:\\Users\\RUDRA\\Desktop\\face datasets\\160647_367971_bundle_archive\\test_data',target_size=(224,224))\n"
   ]
  },
  {
   "cell_type": "code",
   "execution_count": 3,
   "metadata": {},
   "outputs": [],
   "source": [
    "VGG=tf.keras.applications.VGG16(input_shape=(224,224,3),include_top=False,weights='imagenet')\n",
    "VGG.trainable=False\n"
   ]
  },
  {
   "cell_type": "code",
   "execution_count": 4,
   "metadata": {},
   "outputs": [
    {
     "name": "stdout",
     "output_type": "stream",
     "text": [
      "WARNING:tensorflow:From <ipython-input-4-ea91a8057383>:10: Model.fit_generator (from tensorflow.python.keras.engine.training) is deprecated and will be removed in a future version.\n",
      "Instructions for updating:\n",
      "Please use Model.fit, which supports generators.\n",
      "WARNING:tensorflow:sample_weight modes were coerced from\n",
      "  ...\n",
      "    to  \n",
      "  ['...']\n",
      "WARNING:tensorflow:sample_weight modes were coerced from\n",
      "  ...\n",
      "    to  \n",
      "  ['...']\n",
      "Train for 50 steps, validate for 10 steps\n",
      "Epoch 1/5\n",
      "50/50 [==============================] - 203s 4s/step - loss: 4.3760 - accuracy: 0.7483 - val_loss: 0.4288 - val_accuracy: 0.8938\n",
      "Epoch 2/5\n",
      "50/50 [==============================] - 210s 4s/step - loss: 0.7677 - accuracy: 0.8600 - val_loss: 0.4837 - val_accuracy: 0.8938\n",
      "Epoch 3/5\n",
      "50/50 [==============================] - 207s 4s/step - loss: 0.7830 - accuracy: 0.8729 - val_loss: 0.3825 - val_accuracy: 0.9187\n",
      "Epoch 4/5\n",
      "50/50 [==============================] - 210s 4s/step - loss: 0.5960 - accuracy: 0.9121 - val_loss: 0.2299 - val_accuracy: 0.9344\n",
      "Epoch 5/5\n",
      "50/50 [==============================] - 215s 4s/step - loss: 0.3526 - accuracy: 0.9369 - val_loss: 0.1646 - val_accuracy: 0.9688\n"
     ]
    }
   ],
   "source": [
    "model=tf.keras.Sequential([VGG,\n",
    "                           tf.keras.layers.Flatten(),\n",
    "                           tf.keras.layers.Dense(units=256,activation='relu'),\n",
    "                           tf.keras.layers.Dense(units=256,activation='relu'),\n",
    "                           tf.keras.layers.Dense(units=2,activation='softmax'),\n",
    "\n",
    "                            ])\n",
    "model.compile(optimizer='adam',loss=tf.keras.losses.categorical_crossentropy,metrics=['accuracy'])\n",
    "\n",
    "model.fit_generator(steps_per_epoch=50,generator=train_data,validation_data=test_data,validation_steps=10,epochs=5)\n",
    "\n",
    "model.save('vggclf.h5')"
   ]
  },
  {
   "cell_type": "code",
   "execution_count": 1,
   "metadata": {},
   "outputs": [
    {
     "ename": "NameError",
     "evalue": "name 'model' is not defined",
     "output_type": "error",
     "traceback": [
      "\u001b[1;31m---------------------------------------------------------------------------\u001b[0m",
      "\u001b[1;31mNameError\u001b[0m                                 Traceback (most recent call last)",
      "\u001b[1;32m<ipython-input-1-5f15418b3570>\u001b[0m in \u001b[0;36m<module>\u001b[1;34m\u001b[0m\n\u001b[1;32m----> 1\u001b[1;33m \u001b[0mmodel\u001b[0m\u001b[1;33m.\u001b[0m\u001b[0msummary\u001b[0m\u001b[1;33m(\u001b[0m\u001b[1;33m)\u001b[0m\u001b[1;33m\u001b[0m\u001b[1;33m\u001b[0m\u001b[0m\n\u001b[0m",
      "\u001b[1;31mNameError\u001b[0m: name 'model' is not defined"
     ]
    }
   ],
   "source": [
    "model.summary()"
   ]
  },
  {
   "cell_type": "code",
   "execution_count": 9,
   "metadata": {},
   "outputs": [
    {
     "name": "stdout",
     "output_type": "stream",
     "text": [
      "women\n"
     ]
    }
   ],
   "source": [
    "from tensorflow.keras.preprocessing import image\n",
    "img=image.load_img(r'C:\\Users\\RUDRA\\Desktop\\face datasets\\160647_367971_bundle_archive\\blues_eyes_man.jpg',target_size=(224,224))\n",
    "img=np.asarray(img)\n",
    "img=np.expand_dims(img,axis=0)\n",
    "\n",
    "img1=image.load_img(r'C:\\Users\\RUDRA\\Desktop\\face datasets\\160647_367971_bundle_archive\\women.jpg',target_size=(224,224))\n",
    "img1=np.asarray(img1)\n",
    "img1=np.expand_dims(img1,axis=0)\n",
    "\n",
    "\n",
    "from tensorflow.keras.models import load_model\n",
    "saved_model=load_model('vggclf.h5')\n",
    "output=saved_model.predict(img1)\n",
    "\n",
    "if output[0][0]>output[0][1]:\n",
    "    print('men')\n",
    "else:\n",
    "    print('women')"
   ]
  },
  {
   "cell_type": "code",
   "execution_count": null,
   "metadata": {},
   "outputs": [],
   "source": []
  }
 ],
 "metadata": {
  "kernelspec": {
   "display_name": "Python [conda env:py3-TF2.0]",
   "language": "python",
   "name": "conda-env-py3-TF2.0-py"
  },
  "language_info": {
   "codemirror_mode": {
    "name": "ipython",
    "version": 3
   },
   "file_extension": ".py",
   "mimetype": "text/x-python",
   "name": "python",
   "nbconvert_exporter": "python",
   "pygments_lexer": "ipython3",
   "version": "3.7.7"
  }
 },
 "nbformat": 4,
 "nbformat_minor": 4
}
